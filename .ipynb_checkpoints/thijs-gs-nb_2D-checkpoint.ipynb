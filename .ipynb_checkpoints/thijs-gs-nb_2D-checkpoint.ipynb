{
 "cells": [
  {
   "cell_type": "code",
   "execution_count": 33,
   "metadata": {},
   "outputs": [],
   "source": [
    "import numpy as np\n",
    "import matplotlib.pyplot as plt\n",
    "import seaborn as sns\n",
    "from tqdm import tqdm"
   ]
  },
  {
   "cell_type": "code",
   "execution_count": 394,
   "metadata": {},
   "outputs": [],
   "source": [
    "# solve_eq = 'gs' # gs or heat\n",
    "solve_eq = 'gs'\n"
   ]
  },
  {
   "cell_type": "code",
   "execution_count": 389,
   "metadata": {},
   "outputs": [],
   "source": [
    "eps_1 = {'heat': 1e-5, 'gs': 2e-5}\n",
    "eps_2 = {'heat': 1e-4, 'gs': 1e-5}\n",
    "\n",
    "n_x = {'heat': 64, 'gs': 64}\n",
    "x_start = {'heat': 0, 'gs': 0}\n",
    "x_end = {'heat': 0.63, 'gs': 0.63}\n",
    "x_arr = np.linspace(x_start[solve_eq], x_end[solve_eq], n_x[solve_eq])\n",
    "dx = np.diff(x_arr)[0]\n",
    "\n",
    "n_y = {'heat': 64, 'gs': 64}\n",
    "y_start = {'heat': 0, 'gs': 0}\n",
    "y_end = {'heat': 0.63, 'gs': 0.63}\n",
    "y_arr = np.linspace(y_start[solve_eq], y_end[solve_eq], n_y[solve_eq])\n",
    "dy = np.diff(y_arr)[0]\n",
    "\n",
    "# dt_set = 0.9 * (dx ** 2) / (4 * eps_1[solve_eq])\n",
    "# n_times = {'heat': 501, 'gs': 2000}\n",
    "# t_start = {'heat': 0, 'gs': 0}\n",
    "# t_end = {'heat': 6e-1, 'gs': 5}\n",
    "\n",
    "dt_set = 0.9 * (dx ** 2) / (4 * eps_1[solve_eq])\n",
    "n_times = {'heat': 501, 'gs': int(10000 / (8 * dt_set)) * 8}\n",
    "t_start = {'heat': 0, 'gs': 0}\n",
    "t_end = {'heat': 100, 'gs': 1e4}\n",
    "t_arr = np.linspace(t_start[solve_eq], t_end[solve_eq], n_times[solve_eq])\n",
    "dt = np.diff(t_arr)[0]\n",
    "\n",
    "u_mat = np.zeros((n_x[solve_eq], n_y[solve_eq]))\n",
    "v_mat = np.zeros((n_x[solve_eq], n_y[solve_eq]))\n",
    "\n",
    "if solve_eq == 'heat':\n",
    "    u_mat[40:60, 40:60] = 0.5\n",
    "elif solve_eq == 'gs':\n",
    "    # http://www.u.arizona.edu/~erdmann/mse350/_downloads/gray_scott_reaction_diffusion.pdf\n",
    "\n",
    "    spat_slice = slice(int(3/8 * n_x[solve_eq]), int(5/8 * n_x[solve_eq]))\n",
    "    u_mat[spat_slice, spat_slice] = 0.5\n",
    "    v_mat[spat_slice, spat_slice] = 0.25\n",
    "    u_mat[:, :] += ((np.random.rand(n_x[solve_eq], n_y[solve_eq]) - 0.5) * 0.02)\n",
    "    v_mat[:, :] += ((np.random.rand(n_x[solve_eq], n_y[solve_eq]) - 0.5) * 0.02)\n",
    "\n",
    "    interaction = True\n",
    "    decay = True\n",
    "    F=0.04\n",
    "    k=0.06"
   ]
  },
  {
   "cell_type": "code",
   "execution_count": 390,
   "metadata": {},
   "outputs": [],
   "source": [
    "def diffusion_update(old_u, diff_coef=1):\n",
    "    \"\"\"Perform numerical 2D laplacian update (via central finite difference)\"\"\"\n",
    "    diff = np.zeros_like(old_u)\n",
    "    diff = diff_coef * (((np.roll(old_u, shift=1, axis=0) \n",
    "                            + np.roll(old_u, shift=-1, axis=0) \n",
    "                            + 2 * old_u) / (dx ** 2)) +\n",
    "                             ((np.roll(old_u, shift=1, axis=1)\n",
    "                              + np.roll(old_u, shift=-1, axis=1)\n",
    "                              + 2 * old_u) / (dy ** 2)))\n",
    "    return diff"
   ]
  },
  {
   "cell_type": "code",
   "execution_count": 391,
   "metadata": {},
   "outputs": [],
   "source": [
    "def update_uv(old_u_mat, old_v_mat):\n",
    "    new_u_mat = old_u_mat.copy()\n",
    "    new_v_mat = old_v_mat.copy() \n",
    "    \n",
    "    new_u_mat += dt * diffusion_update(old_u=old_u_mat, diff_coef=eps_1[solve_eq])\n",
    "    new_v_mat += dt * diffusion_update(old_u=old_v_mat, diff_coef=eps_2[solve_eq])\n",
    "    \n",
    "    if solve_eq == 'gs':\n",
    "        if interaction:\n",
    "            new_u_mat += dt * -1 * old_u_mat * np.power(old_v_mat, 2)\n",
    "            new_v_mat += dt * 1 * old_u_mat * np.power(old_v_mat, 2)\n",
    "        \n",
    "        if decay:\n",
    "            new_u_mat += dt * F * (1 - old_u_mat)\n",
    "            new_v_mat += dt * (k + F) * old_v_mat\n",
    "\n",
    "    return new_u_mat, new_v_mat"
   ]
  },
  {
   "cell_type": "code",
   "execution_count": 392,
   "metadata": {},
   "outputs": [
    {
     "name": "stderr",
     "output_type": "stream",
     "text": [
      "100%|██████████| 500/500 [00:00<00:00, 3406.13it/s]"
     ]
    },
    {
     "name": "stdout",
     "output_type": "stream",
     "text": [
      "heat\n"
     ]
    },
    {
     "name": "stderr",
     "output_type": "stream",
     "text": [
      "\n"
     ]
    }
   ],
   "source": [
    "print(solve_eq)\n",
    "for i_tau in tqdm(range(n_times[solve_eq] - 1)):\n",
    "    old_u = u_mat.copy()\n",
    "    old_v = v_mat.copy()\n",
    "    u_mat, v_mat = update_uv(old_u_mat=old_u, old_v_mat=old_v)"
   ]
  },
  {
   "cell_type": "code",
   "execution_count": 393,
   "metadata": {
    "scrolled": false
   },
   "outputs": [
    {
     "data": {
      "image/png": "[encoded data removed]",
      "text/plain": [
       "<Figure size 864x648 with 2 Axes>"
      ]
     },
     "metadata": {
      "needs_background": "light"
     },
     "output_type": "display_data"
    }
   ],
   "source": [
    "# for i in range(5):\n",
    "#     old_u = u_mat.copy()\n",
    "#     old_v = v_mat.copy()\n",
    "#     u_mat, v_mat = update_uv(old_u_mat=old_u, old_v_mat=old_v)\n",
    "plt.rcParams['figure.figsize'] = (12, 9)\n",
    "sns.heatmap(u_mat); plt.xlabel('t'); plt.ylabel('x');"
   ]
  },
  {
   "cell_type": "code",
   "execution_count": null,
   "metadata": {},
   "outputs": [],
   "source": []
  },
  {
   "cell_type": "code",
   "execution_count": null,
   "metadata": {},
   "outputs": [],
   "source": []
  }
 ],
 "metadata": {
  "kernelspec": {
   "display_name": "Python 3",
   "language": "python",
   "name": "python3"
  },
  "language_info": {
   "codemirror_mode": {
    "name": "ipython",
    "version": 3
   },
   "file_extension": ".py",
   "mimetype": "text/x-python",
   "name": "python",
   "nbconvert_exporter": "python",
   "pygments_lexer": "ipython3",
   "version": "3.7.4"
  }
 },
 "nbformat": 4,
 "nbformat_minor": 2
}
